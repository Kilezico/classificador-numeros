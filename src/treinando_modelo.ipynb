{
 "cells": [
  {
   "cell_type": "markdown",
   "metadata": {},
   "source": [
    "### Treinando o Modelo\n",
    "Treinando a máquina com os dados coletados"
   ]
  },
  {
   "cell_type": "code",
   "execution_count": null,
   "metadata": {},
   "outputs": [],
   "source": [
    "# Definição de variáveis\n",
    "\n",
    "data_path = \"../data/data.npy\"\n",
    "labels_path = \"../data/labels.npy\"\n",
    "\n",
    "model_path = \"../adivinha.pkl\"\n"
   ]
  },
  {
   "cell_type": "code",
   "execution_count": null,
   "metadata": {},
   "outputs": [],
   "source": [
    "# Carregando os dados\n",
    "\n",
    "import numpy as np\n",
    "import matplotlib.pyplot as plt\n",
    "\n",
    "data = np.load(data_path)\n",
    "labels = np.load(labels_path)\n",
    "\n",
    "print(f\"Total: {len(data)} imgs\")\n",
    "\n",
    "fig, axes = plt.subplots(1, 5, figsize=(10, 5))\n",
    "for ax in axes:\n",
    "    random_img = np.random.randint(len(data))\n",
    "    ax.imshow(data[random_img], cmap='gray')\n",
    "    ax.set_title(\"img[{}] = {}\".format(random_img, labels[random_img]))\n",
    "plt.show()\n",
    "\n",
    "# deixa as imagens em vetor unidimensional para treinar a máquina\n",
    "print(\"Transformando os dados em unidimensional...\")\n",
    "data = np.reshape(data, (len(data), -1))\n"
   ]
  },
  {
   "cell_type": "code",
   "execution_count": null,
   "metadata": {},
   "outputs": [],
   "source": [
    "# Treinando a máquina para testar\n",
    "\n",
    "from sklearn import svm\n",
    "from sklearn.model_selection import train_test_split\n",
    "\n",
    "print(\"Fazendo o split.\")\n",
    "train_X, test_X, train_y, test_y = train_test_split(data, labels, test_size=0.1)\n",
    "\n",
    "model = svm.SVC(class_weight='balanced')\n",
    "\n",
    "print(\"Treinando a máquina.\")\n",
    "model.fit(train_X, train_y)\n",
    "\n",
    "print(\"Acurácia:\", model.score(test_X, test_y))"
   ]
  },
  {
   "cell_type": "code",
   "execution_count": null,
   "metadata": {},
   "outputs": [],
   "source": [
    "# Treina a máquina com todos os dados e salva para ser usada\n",
    "import pickle\n",
    "\n",
    "print(\"Treinando a máquina com todos os dados...\")\n",
    "model.fit(data, labels)\n",
    "\n",
    "with open(model_path, 'wb') as f:\n",
    "    print(\"Salvando modelo treinado em\", model_path)\n",
    "    pickle.dump(model, f)\n"
   ]
  }
 ],
 "metadata": {
  "kernelspec": {
   "display_name": "venv",
   "language": "python",
   "name": "python3"
  },
  "language_info": {
   "codemirror_mode": {
    "name": "ipython",
    "version": 3
   },
   "file_extension": ".py",
   "mimetype": "text/x-python",
   "name": "python",
   "nbconvert_exporter": "python",
   "pygments_lexer": "ipython3",
   "version": "3.11.2"
  }
 },
 "nbformat": 4,
 "nbformat_minor": 2
}
