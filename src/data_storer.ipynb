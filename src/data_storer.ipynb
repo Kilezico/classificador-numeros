{
 "cells": [
  {
   "cell_type": "markdown",
   "metadata": {},
   "source": [
    "### Guardador de dados\n",
    "Série de scripts para processar as imagens em *jpg* que saem do *coletor_de_dados.py* e armazená-las, assim como os labels, em arquivos binários, para posteriormente treinar a máquina. \\\n",
    "Obs.: Cada conjunto de imagens que serão processadas a cada iteração terão o mesmo label, definido na variável *data_labels*"
   ]
  },
  {
   "cell_type": "code",
   "execution_count": 29,
   "metadata": {
    "metadata": {}
   },
   "outputs": [],
   "source": [
    "# Definição de variáveis\n",
    "\n",
    "# MUDAR ESTAS\n",
    "data_to_append = 77    # Quantidade de imagens\n",
    "data_labels = 0        # Label das imagens\n",
    "\n",
    "data_path = \"../data/data.npy\"\n",
    "labels_path = \"../data/labels.npy\"\n",
    "data_dir = \"../data/\"\n"
   ]
  },
  {
   "cell_type": "code",
   "execution_count": 30,
   "metadata": {
    "metadata": {}
   },
   "outputs": [
    {
     "name": "stdout",
     "output_type": "stream",
     "text": [
      "Files loaded sucessfuly.\n",
      "Data loaded:  (838, 50, 50)\n"
     ]
    }
   ],
   "source": [
    "# Carrega as fotos já existentes\n",
    "\n",
    "import numpy as np\n",
    "\n",
    "try: \n",
    "    old_data = np.load(data_path)\n",
    "    old_labels = np.load(labels_path)\n",
    "    print(\"Files loaded sucessfuly.\")\n",
    "except FileNotFoundError:\n",
    "    print(\"Files not found. Starting from blank...\")\n",
    "    old_data = np.array([])\n",
    "    old_labels = np.array([])\n",
    "\n",
    "\n",
    "print(\"Data loaded: \", old_data.shape)\n"
   ]
  },
  {
   "cell_type": "code",
   "execution_count": 31,
   "metadata": {
    "metadata": {}
   },
   "outputs": [
    {
     "name": "stdout",
     "output_type": "stream",
     "text": [
      "Loading image from ../data/data001.jpg\n",
      "Loading image from ../data/data002.jpg\n",
      "Loading image from ../data/data003.jpg\n",
      "Loading image from ../data/data004.jpg\n",
      "Loading image from ../data/data005.jpg\n",
      "Loading image from ../data/data006.jpg\n",
      "Loading image from ../data/data007.jpg\n",
      "Loading image from ../data/data008.jpg\n",
      "Loading image from ../data/data009.jpg\n",
      "Loading image from ../data/data010.jpg\n",
      "Loading image from ../data/data011.jpg\n",
      "Loading image from ../data/data012.jpg\n",
      "Loading image from ../data/data013.jpg\n",
      "Loading image from ../data/data014.jpg\n",
      "Loading image from ../data/data015.jpg\n",
      "Loading image from ../data/data016.jpg\n",
      "Loading image from ../data/data017.jpg\n",
      "Loading image from ../data/data018.jpg\n",
      "Loading image from ../data/data019.jpg\n",
      "Loading image from ../data/data020.jpg\n",
      "Loading image from ../data/data021.jpg\n",
      "Loading image from ../data/data022.jpg\n",
      "Loading image from ../data/data023.jpg\n",
      "Loading image from ../data/data024.jpg\n",
      "Loading image from ../data/data025.jpg\n",
      "Loading image from ../data/data026.jpg\n",
      "Loading image from ../data/data027.jpg\n",
      "Loading image from ../data/data028.jpg\n",
      "Loading image from ../data/data029.jpg\n",
      "Loading image from ../data/data030.jpg\n",
      "Loading image from ../data/data031.jpg\n",
      "Loading image from ../data/data032.jpg\n",
      "Loading image from ../data/data033.jpg\n",
      "Loading image from ../data/data034.jpg\n",
      "Loading image from ../data/data035.jpg\n",
      "Loading image from ../data/data036.jpg\n",
      "Loading image from ../data/data037.jpg\n",
      "Loading image from ../data/data038.jpg\n",
      "Loading image from ../data/data039.jpg\n",
      "Loading image from ../data/data040.jpg\n",
      "Loading image from ../data/data041.jpg\n",
      "Loading image from ../data/data042.jpg\n",
      "Loading image from ../data/data043.jpg\n",
      "Loading image from ../data/data044.jpg\n",
      "Loading image from ../data/data045.jpg\n",
      "Loading image from ../data/data046.jpg\n",
      "Loading image from ../data/data047.jpg\n",
      "Loading image from ../data/data048.jpg\n",
      "Loading image from ../data/data049.jpg\n",
      "Loading image from ../data/data050.jpg\n",
      "Loading image from ../data/data051.jpg\n",
      "Loading image from ../data/data052.jpg\n",
      "Loading image from ../data/data053.jpg\n",
      "Loading image from ../data/data054.jpg\n",
      "Loading image from ../data/data055.jpg\n",
      "Loading image from ../data/data056.jpg\n",
      "Loading image from ../data/data057.jpg\n",
      "Loading image from ../data/data058.jpg\n",
      "Loading image from ../data/data059.jpg\n",
      "Loading image from ../data/data060.jpg\n",
      "Loading image from ../data/data061.jpg\n",
      "Loading image from ../data/data062.jpg\n",
      "Loading image from ../data/data063.jpg\n",
      "Loading image from ../data/data064.jpg\n",
      "Loading image from ../data/data065.jpg\n",
      "Loading image from ../data/data066.jpg\n",
      "Loading image from ../data/data067.jpg\n",
      "Loading image from ../data/data068.jpg\n",
      "Loading image from ../data/data069.jpg\n",
      "Loading image from ../data/data070.jpg\n",
      "Loading image from ../data/data071.jpg\n",
      "Loading image from ../data/data072.jpg\n",
      "Loading image from ../data/data073.jpg\n",
      "Loading image from ../data/data074.jpg\n",
      "Loading image from ../data/data075.jpg\n",
      "Loading image from ../data/data076.jpg\n",
      "Loading image from ../data/data077.jpg\n",
      "(77, 50, 50)\n"
     ]
    },
    {
     "data": {
      "image/png": "[encoded data removed]",
      "text/plain": [
       "<Figure size 640x480 with 5 Axes>"
      ]
     },
     "metadata": {},
     "output_type": "display_data"
    }
   ],
   "source": [
    "# Carrega as fotos novas dos JPGs\n",
    "import cv2\n",
    "import matplotlib.pyplot as plt\n",
    "from utility import modify_images\n",
    "\n",
    "new_data = np.array([])\n",
    "for i in range(data_to_append):\n",
    "    path = data_dir + f\"data{i+1:03}.jpg\"\n",
    "    print(\"Loading image from\", path)\n",
    "    data = cv2.imread(path, cv2.IMREAD_GRAYSCALE)\n",
    "    # Vamos mudar a imagem a fim de manter apenas o necessário\n",
    "    # utilizando a função modify_images\n",
    "    data = modify_images(data)\n",
    "\n",
    "    data = data.reshape((1, *data.shape))\n",
    "    if not i:\n",
    "        # O primeiro elemento define o 'shape' do array\n",
    "        new_data = data\n",
    "    else:\n",
    "        # E os outros são adicionados no fim\n",
    "        new_data = np.append(new_data, data, axis=0)\n",
    "\n",
    "# mostra algumas imagens\n",
    "fig, ax = plt.subplots(1, min(5, len(new_data)))\n",
    "if len(new_data) > 1:\n",
    "    for i, axes in enumerate(ax):\n",
    "        axes.imshow(new_data[i], cmap='gray')\n",
    "        axes.set_title(f\"Img {i+1}\")\n",
    "else:\n",
    "    ax.imshow(new_data[i], cmap='gray')\n",
    "    ax.set_title(f\"Img {i}\")\n",
    "\n",
    "print(new_data.shape)\n",
    "\n",
    "# Cria o vetor de novos labels\n",
    "new_labels = np.full(len(new_data), data_labels)\n"
   ]
  },
  {
   "cell_type": "code",
   "execution_count": 32,
   "metadata": {
    "metadata": {}
   },
   "outputs": [
    {
     "name": "stdout",
     "output_type": "stream",
     "text": [
      "data size: (915, 50, 50)\n",
      "labels size: (915,)\n"
     ]
    }
   ],
   "source": [
    "# Junta os dados\n",
    "\n",
    "if len(old_data): # junta apenas se tiver dados antigos\n",
    "    new_data = np.append(old_data, new_data, axis=0)\n",
    "    new_labels = np.append(old_labels, new_labels, axis=0)\n",
    "\n",
    "\n",
    "print(\"data size:\", new_data.shape)\n",
    "print(\"labels size:\", new_labels.shape)\n",
    "\n"
   ]
  },
  {
   "cell_type": "code",
   "execution_count": 33,
   "metadata": {
    "metadata": {}
   },
   "outputs": [],
   "source": [
    "# Finalização\n",
    "# Coloca os novos dados no arquivo\n",
    "np.save(data_path, new_data)\n",
    "np.save(labels_path, new_labels)\n"
   ]
  },
  {
   "cell_type": "code",
   "execution_count": 34,
   "metadata": {
    "metadata": {}
   },
   "outputs": [],
   "source": [
    "# Apaga as fotos\n",
    "import os\n",
    "\n",
    "for i in range(data_to_append):\n",
    "    path = data_dir + f\"data{i+1:03}.jpg\"\n",
    "    os.remove(path)\n"
   ]
  }
 ],
 "metadata": {
  "kernelspec": {
   "display_name": "venv",
   "language": "python",
   "name": "python3"
  },
  "language_info": {
   "codemirror_mode": {
    "name": "ipython",
    "version": 3
   },
   "file_extension": ".py",
   "mimetype": "text/x-python",
   "name": "python",
   "nbconvert_exporter": "python",
   "pygments_lexer": "ipython3",
   "version": "3.11.2"
  }
 },
 "nbformat": 4,
 "nbformat_minor": 2
}
