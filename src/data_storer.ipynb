{
 "cells": [
  {
   "cell_type": "markdown",
   "metadata": {},
   "source": [
    "### Guardador de dados\n",
    "Série de scripts para processar as imagens em *jpg* que saem do *coletor_de_dados.py* e armazená-las, assim como os labels, em arquivos binários, para posteriormente treinar a máquina. \\\n",
    "Obs.: Cada conjunto de imagens que serão processadas a cada iteração terão o mesmo label, definido na variável *data_labels*"
   ]
  },
  {
   "cell_type": "code",
   "execution_count": null,
   "metadata": {
    "metadata": {}
   },
   "outputs": [],
   "source": [
    "# Definição de variáveis\n",
    "\n",
    "# MUDAR ESTAS\n",
    "data_labels = 2        # Label das imagens\n",
    "\n",
    "data_path = \"../data/data.npy\"\n",
    "labels_path = \"../data/labels.npy\"\n",
    "new_data_path = \"../data/new_data.npy\"\n"
   ]
  },
  {
   "cell_type": "code",
   "execution_count": null,
   "metadata": {
    "metadata": {}
   },
   "outputs": [],
   "source": [
    "# Carrega as fotos já existentes\n",
    "\n",
    "import numpy as np\n",
    "\n",
    "try: \n",
    "    old_data = np.load(data_path)\n",
    "    old_labels = np.load(labels_path)\n",
    "    print(\"Files loaded sucessfuly.\")\n",
    "except FileNotFoundError:\n",
    "    print(\"Files not found. Starting from scratch...\")\n",
    "    old_data = np.array([])\n",
    "    old_labels = np.array([])\n",
    "\n",
    "\n",
    "print(\"Data loaded: \", old_data.shape)\n"
   ]
  },
  {
   "cell_type": "code",
   "execution_count": null,
   "metadata": {},
   "outputs": [],
   "source": [
    "# Mostra quantos dados tem\n",
    "somatorio = dict()\n",
    "for dado, label in zip(old_data, old_labels):\n",
    "    if label in somatorio:\n",
    "        somatorio[label] += 1\n",
    "    else:\n",
    "        somatorio[label] = 1\n",
    "\n",
    "print(\"Dados atuais:\")\n",
    "for key in somatorio:\n",
    "    print(key, ': ', somatorio[key], sep='')"
   ]
  },
  {
   "cell_type": "code",
   "execution_count": null,
   "metadata": {
    "metadata": {}
   },
   "outputs": [],
   "source": [
    "# Carrega as fotos novas do arquivo\n",
    "import cv2\n",
    "import matplotlib.pyplot as plt\n",
    "from utility import modify_images\n",
    "\n",
    "# Carrega os dados\n",
    "try:\n",
    "    new_data = np.load(new_data_path)\n",
    "    print(\"Successfully loaded new images.\")\n",
    "    print(new_data.shape)\n",
    "except FileNotFoundError:\n",
    "    print(\"File not found. No new data to append\")\n",
    "\n",
    "\n",
    "# Modifica cada uma das imagens criando uma função vetorizada\n",
    "vect_modify_images = np.vectorize(modify_images, signature=\"(400, 400, 3)->(50, 50)\")\n",
    "new_data = vect_modify_images(new_data)\n",
    "\n",
    "# mostra algumas imagens\n",
    "fig, ax = plt.subplots(1, min(5, len(new_data)))\n",
    "if len(new_data) > 1:\n",
    "    for i, axes in enumerate(ax):\n",
    "        # Mostra a imagem como matriz transposta (pois pygame pega assim)\n",
    "        axes.imshow(new_data[i].transpose((1, 0)), cmap='gray')\n",
    "        axes.set_title(f\"Img {i}\")\n",
    "else:\n",
    "    # Mostra a imagem como matriz transposta (pois pygame pega assim)\n",
    "    ax.imshow(new_data[0].transpose((1, 0)), cmap='gray')\n",
    "    ax.set_title(\"Img 0\")\n",
    "\n",
    "print(new_data.shape)\n",
    "\n",
    "# Cria o vetor de novos labels\n",
    "new_labels = np.full(len(new_data), data_labels)\n"
   ]
  },
  {
   "cell_type": "code",
   "execution_count": null,
   "metadata": {
    "metadata": {}
   },
   "outputs": [],
   "source": [
    "# Junta os dados\n",
    "\n",
    "if len(old_data): # junta apenas se tiver dados antigos\n",
    "    new_data = np.append(old_data, new_data, axis=0)\n",
    "    new_labels = np.append(old_labels, new_labels, axis=0)\n",
    "\n",
    "\n",
    "print(\"data shape:\", new_data.shape)\n",
    "print(\"labels shape:\", new_labels.shape)"
   ]
  },
  {
   "cell_type": "code",
   "execution_count": null,
   "metadata": {
    "metadata": {}
   },
   "outputs": [],
   "source": [
    "# Finalização\n",
    "import os\n",
    "# Coloca os novos dados no arquivo\n",
    "np.save(data_path, new_data)\n",
    "np.save(labels_path, new_labels)\n",
    "\n",
    "# E apaga os dados já salvos\n",
    "os.remove(new_data_path)"
   ]
  }
 ],
 "metadata": {
  "kernelspec": {
   "display_name": "venv",
   "language": "python",
   "name": "python3"
  },
  "language_info": {
   "codemirror_mode": {
    "name": "ipython",
    "version": 3
   },
   "file_extension": ".py",
   "mimetype": "text/x-python",
   "name": "python",
   "nbconvert_exporter": "python",
   "pygments_lexer": "ipython3",
   "version": "3.11.2"
  }
 },
 "nbformat": 4,
 "nbformat_minor": 2
}
