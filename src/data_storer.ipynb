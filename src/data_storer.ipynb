{
 "cells": [
  {
   "cell_type": "markdown",
   "metadata": {},
   "source": [
    "### Guardador de dados\n",
    "Série de scripts para processar as imagens em *jpg* que saem do *coletor_de_dados.py* e armazená-las, assim como os labels, em um arquivo binário, para posteriormente treinar a máquina.\n",
    "Obs.: Cada conjunto de imagens que serão processadas a cada iteração deste notebook terão o mesmo label."
   ]
  },
  {
   "cell_type": "code",
   "execution_count": 1,
   "metadata": {},
   "outputs": [],
   "source": [
    "# Definição de variáveis\n",
    "\n",
    "# MUDAR ESTAS\n",
    "data_to_append = 20\n",
    "data_labels = 1\n",
    "\n",
    "\n",
    "data_path = \"../data/data.npy\"\n",
    "labels_path = \"../data/labels.npy\"\n",
    "data_dir = \"../data/\"\n"
   ]
  },
  {
   "cell_type": "code",
   "execution_count": 2,
   "metadata": {},
   "outputs": [
    {
     "name": "stdout",
     "output_type": "stream",
     "text": [
      "Files loaded sucessfuly.\n",
      "Data loaded:  (708, 16, 16)\n"
     ]
    }
   ],
   "source": [
    "# Carrega as fotos já existentes\n",
    "\n",
    "import numpy as np\n",
    "\n",
    "try: \n",
    "    old_data = np.load(data_path)\n",
    "    old_labels = np.load(labels_path)\n",
    "    print(\"Files loaded sucessfuly.\")\n",
    "except FileNotFoundError:\n",
    "    print(\"Files not found. Creating new ones...\")\n",
    "    with open(data_path, 'w'): pass\n",
    "    with open(labels_path, 'w'): pass\n",
    "    old_data = np.array([])\n",
    "    old_labels = np.array([])\n",
    "\n",
    "\n",
    "print(\"Data loaded: \", old_data.shape)\n"
   ]
  },
  {
   "cell_type": "code",
   "execution_count": null,
   "metadata": {},
   "outputs": [],
   "source": [
    "# Carrega as fotos novas dos JPGs\n",
    "import cv2\n",
    "import matplotlib.pyplot as plt\n",
    "\n",
    "new_data = np.array([])\n",
    "for i in range(data_to_append):\n",
    "    path = data_dir + f\"data{i+1:03}.jpg\"\n",
    "    print(\"Loading image from\", path)\n",
    "    data = cv2.imread(path, cv2.IMREAD_GRAYSCALE)\n",
    "    # Vamos mudar a imagem a fim de manter apenas o necessário\n",
    "    # (não precisamos de 400x400 pixels)\n",
    "    data = cv2.resize(data, (16, 16), interpolation=cv2.INTER_CUBIC) # Reduz o tamanho para (16, 16)\n",
    "    _, data = cv2.threshold(data, 127, 1, cv2.THRESH_BINARY_INV) # Deixa a \"tinta\"=1 e fundo=0\n",
    "\n",
    "    data = data.reshape((1, *data.shape))\n",
    "    if not i:\n",
    "        # O primeiro elemento define o 'shape' do array\n",
    "        new_data = data\n",
    "    else:\n",
    "        # E os outros são adicionados no fim\n",
    "        new_data = np.append(new_data, data, axis=0)\n",
    "\n",
    "print(new_data.shape)\n",
    "\n",
    "# Cria o vetor de novos labels\n",
    "new_labels = np.array([data_labels for _ in range(len(new_data))])\n"
   ]
  },
  {
   "cell_type": "code",
   "execution_count": null,
   "metadata": {},
   "outputs": [],
   "source": [
    "# Junto os dados\n",
    "\n",
    "if len(old_data): # junta apenas se tiver dados antigos\n",
    "    new_data = np.append(old_data, new_data, axis=0)\n",
    "    new_labels = np.append(old_labels, new_labels, axis=0)\n",
    "\n",
    "\n",
    "print(\"data size:\", new_data.shape)\n",
    "print(\"labels size:\", new_labels.shape)\n",
    "\n"
   ]
  },
  {
   "cell_type": "code",
   "execution_count": null,
   "metadata": {},
   "outputs": [],
   "source": [
    "# Finalização\n",
    "# Coloca os novos dados no arquivo\n",
    "np.save(data_path, new_data)\n",
    "np.save(labels_path, new_labels)\n"
   ]
  },
  {
   "cell_type": "code",
   "execution_count": null,
   "metadata": {},
   "outputs": [],
   "source": [
    "# Apaga as fotos\n",
    "import os\n",
    "\n",
    "for i in range(data_to_append):\n",
    "    path = data_dir + f\"data{i+1:03}.jpg\"\n",
    "    os.remove(path)\n"
   ]
  }
 ],
 "metadata": {
  "kernelspec": {
   "display_name": "venv",
   "language": "python",
   "name": "python3"
  },
  "language_info": {
   "codemirror_mode": {
    "name": "ipython",
    "version": 3
   },
   "file_extension": ".py",
   "mimetype": "text/x-python",
   "name": "python",
   "nbconvert_exporter": "python",
   "pygments_lexer": "ipython3",
   "version": "3.11.2"
  }
 },
 "nbformat": 4,
 "nbformat_minor": 2
}
